{
 "cells": [
  {
   "cell_type": "markdown",
   "metadata": {},
   "source": [
    "# Explicação "
   ]
  },
  {
   "cell_type": "markdown",
   "metadata": {},
   "source": [
    "Referência :  https://www.learndatasci.com/tutorials/reinforcement-q-learning-scratch-python-openai-gym/\n",
    "\n",
    "O processo de aprendizado por reforço envolve:\n",
    "\n",
    "1. Observar o ambiente\n",
    "2. Detectar como agir usando alguma estrategia\n",
    "3. Agir de acordo com essa estrategia\n",
    "4. Avaliar o resultado da ação e penalizar ou recompensar \n",
    "5. Aprender atraves das experiencias refinando nossa estrategia \n",
    "6. Iterar ate uma estrategia otima ser encontrada\n",
    "\n",
    "O problema apresentado é uma simplicação de um táxi autônomo,\n",
    "o objetivo do táxi é pegar um passageiro e o transportar para um determinado\n",
    "local no menor tempo possivel, cuidando para não inflingir nenhuma regra de trafico. \n",
    "\n",
    "Dentro do contexto de RL (Reinforcement Learning) existe 3 conceitos principais:\n",
    "    Ações: É o conjunto de ações que se pode realizar em determinada momento (estado).\n",
    "    Para o caso do problema do taxi, existe 6 ações possiveis:\n",
    "        1. ir para a dereita\n",
    "        2. ir para a esquerda\n",
    "        3. ir para tras\n",
    "        4. ir para frente \n",
    "        5. Pagar o passageiro\n",
    "        6. Deixar o passageiro\n",
    "\n",
    "    Estado: No contexto de aprendizado por reforço o agente se encontra em um estado\n",
    "    e deve realizar uma ação para ir para outro estado.\n",
    "\n",
    "    Recompensas: É o valor dado ao agente pela sua ação em determinado estado, esse \n",
    "    valor é positivo caso a ação seja uma recompensa e negativo em caso de penalização.\n",
    "\n",
    "O objetivo do aprendizado por reforço é encontrar uma sequencia de ações que maximize\n",
    "a recompensa do agente.\n",
    "\n",
    "No problema do táxi a seguir,onde existe 4 locais\n",
    "e o objetivo do agente é pegar o passageiro em um local (representado pela cor azul) e transportar\n",
    "para outro (representado pela cor rosa). O agente recebe +20 pontos caso ele consiga deixar o passageiro\n",
    "no local exato e perde 1 ponto cada vez que ele realiza uma ação, há tambem uma penalidade de 10 pontos para o caso \n",
    "do agente pegar ou deixar o passageiro em um local errado."
   ]
  },
  {
   "cell_type": "markdown",
   "metadata": {},
   "source": [
    "# Código"
   ]
  },
  {
   "cell_type": "code",
   "execution_count": 1,
   "metadata": {},
   "outputs": [
    {
     "name": "stdout",
     "output_type": "stream",
     "text": [
      "+---------+\n",
      "|R: |\u001b[43m \u001b[0m: :\u001b[34;1mG\u001b[0m|\n",
      "| : | : : |\n",
      "| : : : : |\n",
      "| | : | : |\n",
      "|\u001b[35mY\u001b[0m| : |B: |\n",
      "+---------+\n",
      "\n"
     ]
    }
   ],
   "source": [
    "# O quadrado (táxi) fica amarelo se o táxi esta sem passageiro e verde com passageiro.\n",
    "\n",
    "import gym\n",
    "\n",
    "env = gym.make(\"Taxi-v3\").env\n",
    "env.render()"
   ]
  },
  {
   "cell_type": "code",
   "execution_count": 2,
   "metadata": {},
   "outputs": [
    {
     "name": "stdout",
     "output_type": "stream",
     "text": [
      "+---------+\n",
      "|R: | : :G|\n",
      "| : | : : |\n",
      "| : : : : |\n",
      "| | : | : |\n",
      "|\u001b[34;1mY\u001b[0m| : |\u001b[35mB\u001b[0m:\u001b[43m \u001b[0m|\n",
      "+---------+\n",
      "\n",
      "Espaço de ações Discrete(6)\n",
      "Espaço de estados Discrete(500)\n"
     ]
    }
   ],
   "source": [
    "# O número de ações disponiveis para o táxi são 6, e o número de estados são as possiveis combinações da posição do carro\n",
    "# posição do passageiro e posição de destino. O número de posições do carro são 25 já que existem 25 posições (grid 5x5)\n",
    "# possiveis em que o caro pode ficar, já o número de posições possiveis para o passageiro são 4 (R, G, B, Y) mais um caso\n",
    "# que é quando o carro pegou o passageiro, ou seja, temos 5 possibilidades para a possição do passageiro, já para a posição\n",
    "# de destino temos 4 possibilidades (R, G, B, Y), o que nos leva a ter 25 * 5 * 4 = 500 possiveis estados para este ambiente.\n",
    "\n",
    "env.reset() # reset environment to a new, random state\n",
    "env.render()\n",
    "\n",
    "print(\"Espaço de ações {}\".format(env.action_space))\n",
    "print(\"Espaço de estados {}\".format(env.observation_space))"
   ]
  },
  {
   "cell_type": "code",
   "execution_count": 3,
   "metadata": {},
   "outputs": [
    {
     "name": "stdout",
     "output_type": "stream",
     "text": [
      "Estado: 328\n",
      "+---------+\n",
      "|\u001b[35mR\u001b[0m: | : :G|\n",
      "| : | : : |\n",
      "| : : : : |\n",
      "| |\u001b[43m \u001b[0m: | : |\n",
      "|\u001b[34;1mY\u001b[0m| : |B: |\n",
      "+---------+\n",
      "\n"
     ]
    }
   ],
   "source": [
    "# Criando um ambiente com a posição do táxi, passageiro e destino, atribuidos.\n",
    "state = env.encode(3, 1, 2, 0) # (taxi row, taxi column, passenger index, destination index)\n",
    "print(\"Estado:\", state)\n",
    "\n",
    "env.s = state\n",
    "env.render()"
   ]
  },
  {
   "cell_type": "code",
   "execution_count": 4,
   "metadata": {},
   "outputs": [
    {
     "data": {
      "text/plain": [
       "{0: [(1.0, 428, -1, False)],\n",
       " 1: [(1.0, 228, -1, False)],\n",
       " 2: [(1.0, 348, -1, False)],\n",
       " 3: [(1.0, 328, -1, False)],\n",
       " 4: [(1.0, 328, -10, False)],\n",
       " 5: [(1.0, 328, -10, False)]}"
      ]
     },
     "execution_count": 4,
     "metadata": {},
     "output_type": "execute_result"
    }
   ],
   "source": [
    "# tabela de recompensa, atribuida por P, é uma lista que possui todos os possiveis estados e as suas respectivas ações.\n",
    "# No problema do táxi cada ação é representada por um número de 0 a 5.\n",
    "# {ação: [(probabilidade, proximo estado, recompensa, finalizado)]}.\n",
    "\n",
    "env.P[328]"
   ]
  },
  {
   "cell_type": "code",
   "execution_count": 7,
   "metadata": {},
   "outputs": [
    {
     "name": "stdout",
     "output_type": "stream",
     "text": [
      "Número de etapas: 1123\n",
      "Número de penalidades: 349\n"
     ]
    }
   ],
   "source": [
    "# Exemplo da resolução do problema de modo randômico. Onde a cada etapa uma ação random é tomada.\n",
    "# Esse método dependendo da complexidade do problema pode ser inviável.\n",
    "\n",
    "env.s = 328  # set environment to illustration's state\n",
    "\n",
    "epochs = 0\n",
    "penalties, reward = 0, 0\n",
    "\n",
    "frames = [] # for animation\n",
    "\n",
    "done = False\n",
    "\n",
    "while not done:\n",
    "    action = env.action_space.sample()\n",
    "    state, reward, done, info = env.step(action)\n",
    "\n",
    "    if reward == -10:\n",
    "        penalties += 1\n",
    "    \n",
    "    # Put each rendered frame into dict for animation\n",
    "    frames.append({\n",
    "        'frame': env.render(mode='ansi'),\n",
    "        'state': state,\n",
    "        'action': action,\n",
    "        'reward': reward\n",
    "        }\n",
    "    )\n",
    "\n",
    "    epochs += 1\n",
    "    \n",
    "    \n",
    "print(\"Número de etapas: {}\".format(epochs))\n",
    "print(\"Número de penalidades: {}\".format(penalties))"
   ]
  },
  {
   "cell_type": "code",
   "execution_count": 6,
   "metadata": {},
   "outputs": [
    {
     "name": "stdout",
     "output_type": "stream",
     "text": [
      "+---------+\n",
      "|\u001b[35mR\u001b[0m: | : :G|\n",
      "| : | :\u001b[43m \u001b[0m: |\n",
      "| : : : : |\n",
      "| | : | : |\n",
      "|\u001b[34;1mY\u001b[0m| : |B: |\n",
      "+---------+\n",
      "  (West)\n",
      "\n",
      "Timestep: 132\n",
      "State: 168\n",
      "Action: 3\n",
      "Reward: -1\n"
     ]
    },
    {
     "ename": "KeyboardInterrupt",
     "evalue": "",
     "output_type": "error",
     "traceback": [
      "\u001b[1;31m---------------------------------------------------------------------------\u001b[0m",
      "\u001b[1;31mKeyboardInterrupt\u001b[0m                         Traceback (most recent call last)",
      "\u001b[1;32m<ipython-input-6-3b7a84a259a7>\u001b[0m in \u001b[0;36m<module>\u001b[1;34m\u001b[0m\n\u001b[0;32m     12\u001b[0m         \u001b[0msleep\u001b[0m\u001b[1;33m(\u001b[0m\u001b[1;36m.5\u001b[0m\u001b[1;33m)\u001b[0m\u001b[1;33m\u001b[0m\u001b[1;33m\u001b[0m\u001b[0m\n\u001b[0;32m     13\u001b[0m \u001b[1;33m\u001b[0m\u001b[0m\n\u001b[1;32m---> 14\u001b[1;33m \u001b[0mprint_frames\u001b[0m\u001b[1;33m(\u001b[0m\u001b[0mframes\u001b[0m\u001b[1;33m)\u001b[0m\u001b[1;33m\u001b[0m\u001b[1;33m\u001b[0m\u001b[0m\n\u001b[0m",
      "\u001b[1;32m<ipython-input-6-3b7a84a259a7>\u001b[0m in \u001b[0;36mprint_frames\u001b[1;34m(frames)\u001b[0m\n\u001b[0;32m     10\u001b[0m         \u001b[0mprint\u001b[0m\u001b[1;33m(\u001b[0m\u001b[1;34mf\"Action: {frame['action']}\"\u001b[0m\u001b[1;33m)\u001b[0m\u001b[1;33m\u001b[0m\u001b[1;33m\u001b[0m\u001b[0m\n\u001b[0;32m     11\u001b[0m         \u001b[0mprint\u001b[0m\u001b[1;33m(\u001b[0m\u001b[1;34mf\"Reward: {frame['reward']}\"\u001b[0m\u001b[1;33m)\u001b[0m\u001b[1;33m\u001b[0m\u001b[1;33m\u001b[0m\u001b[0m\n\u001b[1;32m---> 12\u001b[1;33m         \u001b[0msleep\u001b[0m\u001b[1;33m(\u001b[0m\u001b[1;36m.5\u001b[0m\u001b[1;33m)\u001b[0m\u001b[1;33m\u001b[0m\u001b[1;33m\u001b[0m\u001b[0m\n\u001b[0m\u001b[0;32m     13\u001b[0m \u001b[1;33m\u001b[0m\u001b[0m\n\u001b[0;32m     14\u001b[0m \u001b[0mprint_frames\u001b[0m\u001b[1;33m(\u001b[0m\u001b[0mframes\u001b[0m\u001b[1;33m)\u001b[0m\u001b[1;33m\u001b[0m\u001b[1;33m\u001b[0m\u001b[0m\n",
      "\u001b[1;31mKeyboardInterrupt\u001b[0m: "
     ]
    }
   ],
   "source": [
    "# Mostra as ações do táxi de acordo com uma lista de frames.\n",
    "\n",
    "from IPython.display import clear_output\n",
    "from time import sleep\n",
    "\n",
    "def print_frames(frames):\n",
    "    for i, frame in enumerate(frames):\n",
    "        clear_output(wait=True)\n",
    "        print(frame['frame'])\n",
    "        print(f\"Timestep: {i + 1}\")\n",
    "        print(f\"State: {frame['state']}\")\n",
    "        print(f\"Action: {frame['action']}\")\n",
    "        print(f\"Reward: {frame['reward']}\")\n",
    "        sleep(.5)\n",
    "        \n",
    "print_frames(frames)"
   ]
  },
  {
   "cell_type": "markdown",
   "metadata": {},
   "source": [
    "# Introdução ao Q-learning\n",
    "\n",
    "O Q-learning é um algoritmo de apredizado por reforço para problemas não deterministicos que tenta se valer de exemplos deterministicos para a escolha da ação a ser tomada em determinado estado. Basicamente esse algoritmo busca criar uma tabela (chamada de Q-table) de consulta que mapeia a qualidade de uma ação em um determinada estado, ações que recebem uma recompensa são reforçadas, já ações que recebem punições são inibidas. O objetivo desse algoritmo é salvar o máximo de informações possíveis sobre o desempenho das ações em determinados estados, criando uma espécie de memoria auxiliar para o caso de quando essa ação for realizada em um estado parecido ou igual, existir a possibilidade de se consultar essa tabela. O algoritmo funciona da seguinte maneira:\n",
    "    1. Inicializar a Q-table com zeros.\n",
    "    2. Iniciar a exploração das ações para o estado atual, escolhendo uma ação dentre as possiveis para esse estado, essa\n",
    "    escolha pode ser aleatória ou de acordo com o Q-value das ações para esse estado.\n",
    "    3. Ir para o próximo estado de acordo com a ação tomada\n",
    "    4. Para todas as ações possiveis nesse novo estado selecionar a que possui maior valor\n",
    "    5. Atualizar a Q-table de acordo com a equação abaixo\n",
    "    6. Selecionar esse novo estado como o atual.\n",
    "    7. Até que o estado final seja alcançado repetir o passo 2.\n",
    "\n",
    "Fórmula de atualização do valor de qualidade de uma determinada ação em um estado:\n",
    "\n",
    "$Q(estado, ação) \\gets (1-\\alpha)Q(estado, ação) + \\alpha(recompensa +  \\gamma\\max\\limits_a Q(próximo\\ estado, todas\\ ações)$\n",
    "\n",
    "Onde $\\alpha$ é conhecido como learning rate (táxa de aprendizado) que diz com que velocidade o algoritmo vai convergir e para\n",
    "o caso do aprendizado por reforço diz qual a importância da recompensa da ação mais recente sobre as próximas ações.\n",
    "\n",
    "A recompensa é o valor de ganho recebido ao se realizar a ação.\n",
    "\n",
    "O $\\gamma$ é chamado fator de desconto e serve para determinar o quanto de importância o algoritmo deve dar a recompensas futuras. "
   ]
  },
  {
   "cell_type": "code",
   "execution_count": 14,
   "metadata": {},
   "outputs": [],
   "source": [
    "# iniciando a Q-tahle com todos os valores zeros.\n",
    "import numpy as np\n",
    "q_table = np.zeros([env.observation_space.n, env.action_space.n])"
   ]
  },
  {
   "cell_type": "code",
   "execution_count": 8,
   "metadata": {},
   "outputs": [
    {
     "ename": "NameError",
     "evalue": "name 'q_table' is not defined",
     "output_type": "error",
     "traceback": [
      "\u001b[1;31m---------------------------------------------------------------------------\u001b[0m",
      "\u001b[1;31mNameError\u001b[0m                                 Traceback (most recent call last)",
      "\u001b[1;32m<ipython-input-8-a7280921d68f>\u001b[0m in \u001b[0;36m<module>\u001b[1;34m\u001b[0m\n\u001b[0;32m     29\u001b[0m             \u001b[0maction\u001b[0m \u001b[1;33m=\u001b[0m \u001b[0menv\u001b[0m\u001b[1;33m.\u001b[0m\u001b[0maction_space\u001b[0m\u001b[1;33m.\u001b[0m\u001b[0msample\u001b[0m\u001b[1;33m(\u001b[0m\u001b[1;33m)\u001b[0m \u001b[1;31m# Explore action space\u001b[0m\u001b[1;33m\u001b[0m\u001b[1;33m\u001b[0m\u001b[0m\n\u001b[0;32m     30\u001b[0m         \u001b[1;32melse\u001b[0m\u001b[1;33m:\u001b[0m\u001b[1;33m\u001b[0m\u001b[1;33m\u001b[0m\u001b[0m\n\u001b[1;32m---> 31\u001b[1;33m             \u001b[0maction\u001b[0m \u001b[1;33m=\u001b[0m \u001b[0mnp\u001b[0m\u001b[1;33m.\u001b[0m\u001b[0margmax\u001b[0m\u001b[1;33m(\u001b[0m\u001b[0mq_table\u001b[0m\u001b[1;33m[\u001b[0m\u001b[0mstate\u001b[0m\u001b[1;33m]\u001b[0m\u001b[1;33m)\u001b[0m \u001b[1;31m# Exploit learned values\u001b[0m\u001b[1;33m\u001b[0m\u001b[1;33m\u001b[0m\u001b[0m\n\u001b[0m\u001b[0;32m     32\u001b[0m \u001b[1;33m\u001b[0m\u001b[0m\n\u001b[0;32m     33\u001b[0m         \u001b[0mnext_state\u001b[0m\u001b[1;33m,\u001b[0m \u001b[0mreward\u001b[0m\u001b[1;33m,\u001b[0m \u001b[0mdone\u001b[0m\u001b[1;33m,\u001b[0m \u001b[0minfo\u001b[0m \u001b[1;33m=\u001b[0m \u001b[0menv\u001b[0m\u001b[1;33m.\u001b[0m\u001b[0mstep\u001b[0m\u001b[1;33m(\u001b[0m\u001b[0maction\u001b[0m\u001b[1;33m)\u001b[0m\u001b[1;33m\u001b[0m\u001b[1;33m\u001b[0m\u001b[0m\n",
      "\u001b[1;31mNameError\u001b[0m: name 'q_table' is not defined"
     ]
    }
   ],
   "source": [
    "# Treinando o algoritmo através de 100001 etapas onde cada etapa representa a conclusão de uma corrida do táxi.\n",
    "# Primeiramente o algoritmo decide se vai usar uma ação randômica para o estado atual, ou se vai recorrer à Q-table.\n",
    "# Após isso o par ação, estado, tem o seu peso atualizado de acordo com a formula de atualização mostrada acima.\n",
    "# Esse processo continua até que o táxi tenha levado o seu cliente para o destino final.\n",
    "# Esse algoritmo é rodado novamente para uma nova configuração.\n",
    "# Observe que para esse algiritmo funcionar corretamente o mapeamento das ações e estados tem que ser realizado muitas vezes\n",
    "# para capturar o máximo de diversidade possivel, isso torna esse algoritmo muitas vezes lento em ambientes complexos.\n",
    "\n",
    "import random\n",
    "import numpy as np\n",
    "from IPython.display import clear_output\n",
    "\n",
    "# Hyperparameters\n",
    "alpha = 0.1\n",
    "gamma = 0.6\n",
    "epsilon = 0.1\n",
    "\n",
    "# For plotting metrics\n",
    "all_epochs = []\n",
    "all_penalties = []\n",
    "\n",
    "for i in range(1, 100001):\n",
    "    state = env.reset()\n",
    "\n",
    "    epochs, penalties, reward, = 0, 0, 0\n",
    "    done = False\n",
    "    \n",
    "    while not done:\n",
    "        if random.uniform(0, 1) < epsilon:\n",
    "            action = env.action_space.sample() # Explore action space\n",
    "        else:\n",
    "            action = np.argmax(q_table[state]) # Exploit learned values\n",
    "\n",
    "        next_state, reward, done, info = env.step(action) \n",
    "        \n",
    "        old_value = q_table[state, action]\n",
    "        next_max = np.max(q_table[next_state])\n",
    "        \n",
    "        new_value = (1 - alpha) * old_value + alpha * (reward + gamma * next_max)\n",
    "        q_table[state, action] = new_value\n",
    "\n",
    "        if reward == -10:\n",
    "            penalties += 1\n",
    "\n",
    "        state = next_state\n",
    "        epochs += 1\n",
    "        \n",
    "    if i % 100 == 0:\n",
    "        clear_output(wait=True)\n",
    "        print(f\"Episode: {i}\")\n",
    "\n",
    "print(\"Training finished.\\n\")"
   ]
  },
  {
   "cell_type": "code",
   "execution_count": 25,
   "metadata": {},
   "outputs": [
    {
     "name": "stdout",
     "output_type": "stream",
     "text": [
      "+---------+\n",
      "|R: | : :G|\n",
      "| : | : : |\n",
      "| : : : : |\n",
      "| | : | : |\n",
      "|\u001b[35m\u001b[34;1m\u001b[43mY\u001b[0m\u001b[0m\u001b[0m| : |B: |\n",
      "+---------+\n",
      "  (Dropoff)\n",
      "\n",
      "Timestep: 7\n",
      "State: 410\n",
      "Action: 5\n",
      "Reward: 20\n"
     ]
    }
   ],
   "source": [
    "# Teste do táxi com a Q-table treinada anteriormente.\n",
    "state = env.reset()\n",
    "epochs, penalties, reward = 0, 0, 0\n",
    "frames = []\n",
    "done = False\n",
    "while not done:\n",
    "    action = np.argmax(q_table[state])\n",
    "    state, reward, done, info = env.step(action)\n",
    "\n",
    "    if reward == -10:\n",
    "        penalties += 1\n",
    "    \n",
    "    frames.append({\n",
    "        'frame': env.render(mode='ansi'),\n",
    "        'state': state,\n",
    "        'action': action,\n",
    "        'reward': reward\n",
    "        }\n",
    "    )\n",
    "\n",
    "    epochs += 1\n",
    "    \n",
    "print_frames(frames)"
   ]
  }
 ],
 "metadata": {
  "kernelspec": {
   "display_name": "Python 3",
   "language": "python",
   "name": "python3"
  },
  "language_info": {
   "codemirror_mode": {
    "name": "ipython",
    "version": 3
   },
   "file_extension": ".py",
   "mimetype": "text/x-python",
   "name": "python",
   "nbconvert_exporter": "python",
   "pygments_lexer": "ipython3",
   "version": "3.7.2"
  }
 },
 "nbformat": 4,
 "nbformat_minor": 2
}
